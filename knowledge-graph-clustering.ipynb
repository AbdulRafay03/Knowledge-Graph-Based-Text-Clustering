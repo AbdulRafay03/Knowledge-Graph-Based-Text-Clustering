{
 "cells": [
  {
   "cell_type": "code",
   "execution_count": 1,
   "id": "031cddf1",
   "metadata": {
    "_cell_guid": "b1076dfc-b9ad-4769-8c92-a6c4dae69d19",
    "_uuid": "8f2839f25d086af736a60e9eeb907d3b93b6e0e5",
    "execution": {
     "iopub.execute_input": "2023-12-30T04:27:19.650825Z",
     "iopub.status.busy": "2023-12-30T04:27:19.650336Z",
     "iopub.status.idle": "2023-12-30T04:27:26.202101Z",
     "shell.execute_reply": "2023-12-30T04:27:26.200818Z"
    },
    "papermill": {
     "duration": 6.559869,
     "end_time": "2023-12-30T04:27:26.204737",
     "exception": false,
     "start_time": "2023-12-30T04:27:19.644868",
     "status": "completed"
    },
    "tags": []
   },
   "outputs": [
    {
     "name": "stdout",
     "output_type": "stream",
     "text": [
      "/kaggle/input/religion/Text based Religion Posts 35000.csv\n"
     ]
    }
   ],
   "source": [
    "import numpy as np # linear algebra\n",
    "import pandas as pd # data processing, CSV file I/O (e.g. pd.read_csv)\n",
    "import spacy\n",
    "import re\n",
    "import string\n",
    "from spacy.lang.en import English\n",
    "import networkx as nx\n",
    "import matplotlib.pyplot as plt\n",
    "import nltk\n",
    "import numpy as np # linear algebra\n",
    "import pandas as pd # data processing, CSV file I/O (e.g. pd.read_csv)\n",
    "\n",
    "# Input data files are available in the read-only \"../input/\" directory\n",
    "# For example, running this (by clicking run or pressing Shift+Enter) will list all files under the input directory\n",
    "\n",
    "import os\n",
    "for dirname, _, filenames in os.walk('/kaggle/input'):\n",
    "    for filename in filenames:\n",
    "        print(os.path.join(dirname, filename))\n",
    "\n",
    "# You can write up to 20GB to the current directory (/kaggle/working/) that gets preserved as output when you create a version using \"Save & Run All\" \n",
    "# You can also write temporary files to /kaggle/temp/, but they won't be saved outside of the current session"
   ]
  },
  {
   "cell_type": "code",
   "execution_count": 2,
   "id": "92ed2c14",
   "metadata": {
    "execution": {
     "iopub.execute_input": "2023-12-30T04:27:26.213585Z",
     "iopub.status.busy": "2023-12-30T04:27:26.213026Z",
     "iopub.status.idle": "2023-12-30T04:27:26.222696Z",
     "shell.execute_reply": "2023-12-30T04:27:26.221958Z"
    },
    "papermill": {
     "duration": 0.015816,
     "end_time": "2023-12-30T04:27:26.224430",
     "exception": false,
     "start_time": "2023-12-30T04:27:26.208614",
     "status": "completed"
    },
    "tags": []
   },
   "outputs": [],
   "source": [
    "\n",
    "def getSentences(text):\n",
    "    nlp = English()\n",
    "    nlp.add_pipe('sentencizer')\n",
    "    document = nlp(text)\n",
    "    return [sent.text.strip() for sent in document.sents]\n",
    "def printToken(token):\n",
    "    print(token.text, \"->\", token.dep_)\n",
    "    \n",
    "def appendChunk(original, chunk):\n",
    "    return original + ' ' + chunk\n",
    "def isRelationCandidate(token):\n",
    "    deps = [\"ROOT\", \"adj\", \"attr\", \"agent\", \"amod\"]\n",
    "    return any(subs in token.dep_ for subs in deps)\n",
    "def isConstructionCandidate(token):\n",
    "    deps = [\"compound\", \"prep\", \"conj\", \"mod\"]\n",
    "    return any(subs in token.dep_ for subs in deps)\n",
    "def processSubjectObjectPairs(tokens):\n",
    "    subject = ''\n",
    "    object = ''\n",
    "    relation = ''\n",
    "    subjectConstruction = ''\n",
    "    objectConstruction = ''\n",
    "    for token in tokens:\n",
    "        printToken(token)\n",
    "        if \"punct\" in token.dep_:\n",
    "            continue\n",
    "        if isRelationCandidate(token):\n",
    "            relation = appendChunk(relation, token.lemma_)\n",
    "        if isConstructionCandidate(token):\n",
    "            if subjectConstruction:\n",
    "                 subjectConstruction = appendChunk(subjectConstruction, token.text)\n",
    "            if objectConstruction:\n",
    "                objectConstruction = appendChunk(objectConstruction, token.text)\n",
    "        if \"subj\" in token.dep_:\n",
    "            subject = appendChunk(subject, token.text)\n",
    "            subject = appendChunk(subjectConstruction, subject)\n",
    "            subjectConstruction = ''\n",
    "        if \"obj\" in token.dep_:\n",
    "            object = appendChunk(object, token.text)\n",
    "            object = appendChunk(objectConstruction, object)\n",
    "            objectConstruction = ''\n",
    "            \n",
    "    print (subject.strip(), \",\", relation.strip(), \",\", object.strip())\n",
    "    return (subject.strip(), relation.strip(), object.strip())\n",
    "\n",
    "\n",
    "def processSentence(sentence):\n",
    "    tokens = nlp_model(sentence)\n",
    "    return processSubjectObjectPairs(tokens)"
   ]
  },
  {
   "cell_type": "code",
   "execution_count": 3,
   "id": "fd5ef611",
   "metadata": {
    "execution": {
     "iopub.execute_input": "2023-12-30T04:27:26.232214Z",
     "iopub.status.busy": "2023-12-30T04:27:26.231994Z",
     "iopub.status.idle": "2023-12-30T04:27:27.274504Z",
     "shell.execute_reply": "2023-12-30T04:27:27.273901Z"
    },
    "papermill": {
     "duration": 1.048087,
     "end_time": "2023-12-30T04:27:27.276114",
     "exception": false,
     "start_time": "2023-12-30T04:27:26.228027",
     "status": "completed"
    },
    "tags": []
   },
   "outputs": [
    {
     "data": {
      "text/html": [
       "<div>\n",
       "<style scoped>\n",
       "    .dataframe tbody tr th:only-of-type {\n",
       "        vertical-align: middle;\n",
       "    }\n",
       "\n",
       "    .dataframe tbody tr th {\n",
       "        vertical-align: top;\n",
       "    }\n",
       "\n",
       "    .dataframe thead th {\n",
       "        text-align: right;\n",
       "    }\n",
       "</style>\n",
       "<table border=\"1\" class=\"dataframe\">\n",
       "  <thead>\n",
       "    <tr style=\"text-align: right;\">\n",
       "      <th></th>\n",
       "      <th>index</th>\n",
       "      <th>Document</th>\n",
       "      <th>subreddit</th>\n",
       "    </tr>\n",
       "  </thead>\n",
       "  <tbody>\n",
       "    <tr>\n",
       "      <th>0</th>\n",
       "      <td>527941</td>\n",
       "      <td>I was raised as a Muslim, but never got into t...</td>\n",
       "      <td>islam</td>\n",
       "    </tr>\n",
       "    <tr>\n",
       "      <th>1</th>\n",
       "      <td>534235</td>\n",
       "      <td>\\nAs salamu alaikum, I wonder what the benefit...</td>\n",
       "      <td>islam</td>\n",
       "    </tr>\n",
       "    <tr>\n",
       "      <th>2</th>\n",
       "      <td>531104</td>\n",
       "      <td>I was at a coffee shop when I saw a carbonara ...</td>\n",
       "      <td>islam</td>\n",
       "    </tr>\n",
       "    <tr>\n",
       "      <th>3</th>\n",
       "      <td>525922</td>\n",
       "      <td>Hello, so I am a 13 year old boy, naturally I ...</td>\n",
       "      <td>islam</td>\n",
       "    </tr>\n",
       "    <tr>\n",
       "      <th>4</th>\n",
       "      <td>523640</td>\n",
       "      <td>We intend to get married soon but my father an...</td>\n",
       "      <td>islam</td>\n",
       "    </tr>\n",
       "  </tbody>\n",
       "</table>\n",
       "</div>"
      ],
      "text/plain": [
       "    index                                           Document subreddit\n",
       "0  527941  I was raised as a Muslim, but never got into t...     islam\n",
       "1  534235  \\nAs salamu alaikum, I wonder what the benefit...     islam\n",
       "2  531104  I was at a coffee shop when I saw a carbonara ...     islam\n",
       "3  525922  Hello, so I am a 13 year old boy, naturally I ...     islam\n",
       "4  523640  We intend to get married soon but my father an...     islam"
      ]
     },
     "execution_count": 3,
     "metadata": {},
     "output_type": "execute_result"
    }
   ],
   "source": [
    "df = pd.read_csv(r'/kaggle/input/religion/Text based Religion Posts 35000.csv')\n",
    "df.head()"
   ]
  },
  {
   "cell_type": "code",
   "execution_count": 4,
   "id": "3c210095",
   "metadata": {
    "execution": {
     "iopub.execute_input": "2023-12-30T04:27:27.284869Z",
     "iopub.status.busy": "2023-12-30T04:27:27.284407Z",
     "iopub.status.idle": "2023-12-30T04:27:27.289484Z",
     "shell.execute_reply": "2023-12-30T04:27:27.288785Z"
    },
    "papermill": {
     "duration": 0.011223,
     "end_time": "2023-12-30T04:27:27.291035",
     "exception": false,
     "start_time": "2023-12-30T04:27:27.279812",
     "status": "completed"
    },
    "tags": []
   },
   "outputs": [
    {
     "data": {
      "text/plain": [
       "(35000, 3)"
      ]
     },
     "execution_count": 4,
     "metadata": {},
     "output_type": "execute_result"
    }
   ],
   "source": [
    "df.shape"
   ]
  },
  {
   "cell_type": "code",
   "execution_count": 5,
   "id": "59b764d4",
   "metadata": {
    "execution": {
     "iopub.execute_input": "2023-12-30T04:27:27.300138Z",
     "iopub.status.busy": "2023-12-30T04:27:27.299353Z",
     "iopub.status.idle": "2023-12-30T04:27:27.312202Z",
     "shell.execute_reply": "2023-12-30T04:27:27.311370Z"
    },
    "papermill": {
     "duration": 0.018936,
     "end_time": "2023-12-30T04:27:27.313814",
     "exception": false,
     "start_time": "2023-12-30T04:27:27.294878",
     "status": "completed"
    },
    "tags": []
   },
   "outputs": [
    {
     "data": {
      "text/plain": [
       "subreddit\n",
       "islam              11000\n",
       "Christianity        4000\n",
       "atheism             4000\n",
       "hinduism            4000\n",
       "exmuslim            2000\n",
       "Muslim              1000\n",
       "food                 700\n",
       "Pets                 700\n",
       "gaming               700\n",
       "personalfinance      700\n",
       "travel               700\n",
       "Fitness              700\n",
       "politics             700\n",
       "sports               700\n",
       "AskReddit            600\n",
       "science              600\n",
       "television           600\n",
       "technology           600\n",
       "MuslimMarriage       500\n",
       "Hijabis              500\n",
       "Name: count, dtype: int64"
      ]
     },
     "execution_count": 5,
     "metadata": {},
     "output_type": "execute_result"
    }
   ],
   "source": [
    "df['subreddit'].value_counts()"
   ]
  },
  {
   "cell_type": "code",
   "execution_count": 6,
   "id": "04f434c7",
   "metadata": {
    "execution": {
     "iopub.execute_input": "2023-12-30T04:27:27.322439Z",
     "iopub.status.busy": "2023-12-30T04:27:27.322173Z",
     "iopub.status.idle": "2023-12-30T04:27:27.335875Z",
     "shell.execute_reply": "2023-12-30T04:27:27.334989Z"
    },
    "papermill": {
     "duration": 0.019822,
     "end_time": "2023-12-30T04:27:27.337546",
     "exception": false,
     "start_time": "2023-12-30T04:27:27.317724",
     "status": "completed"
    },
    "tags": []
   },
   "outputs": [
    {
     "data": {
      "text/plain": [
       "index        0\n",
       "Document     0\n",
       "subreddit    0\n",
       "dtype: int64"
      ]
     },
     "execution_count": 6,
     "metadata": {},
     "output_type": "execute_result"
    }
   ],
   "source": [
    "df.isnull().sum()"
   ]
  },
  {
   "cell_type": "code",
   "execution_count": 7,
   "id": "4ad5ff06",
   "metadata": {
    "execution": {
     "iopub.execute_input": "2023-12-30T04:27:27.346855Z",
     "iopub.status.busy": "2023-12-30T04:27:27.346171Z",
     "iopub.status.idle": "2023-12-30T04:27:27.458844Z",
     "shell.execute_reply": "2023-12-30T04:27:27.457882Z"
    },
    "papermill": {
     "duration": 0.119199,
     "end_time": "2023-12-30T04:27:27.460710",
     "exception": false,
     "start_time": "2023-12-30T04:27:27.341511",
     "status": "completed"
    },
    "tags": []
   },
   "outputs": [
    {
     "data": {
      "text/plain": [
       "0"
      ]
     },
     "execution_count": 7,
     "metadata": {},
     "output_type": "execute_result"
    }
   ],
   "source": [
    "df.duplicated().sum()"
   ]
  },
  {
   "cell_type": "code",
   "execution_count": 8,
   "id": "a7e1dd20",
   "metadata": {
    "execution": {
     "iopub.execute_input": "2023-12-30T04:27:27.470264Z",
     "iopub.status.busy": "2023-12-30T04:27:27.469837Z",
     "iopub.status.idle": "2023-12-30T04:27:27.481545Z",
     "shell.execute_reply": "2023-12-30T04:27:27.480583Z"
    },
    "papermill": {
     "duration": 0.01862,
     "end_time": "2023-12-30T04:27:27.483462",
     "exception": false,
     "start_time": "2023-12-30T04:27:27.464842",
     "status": "completed"
    },
    "tags": []
   },
   "outputs": [],
   "source": [
    "df = df.drop('subreddit' , axis = 1)\n",
    "df = df.drop('index' , axis = 1)"
   ]
  },
  {
   "cell_type": "code",
   "execution_count": 9,
   "id": "202816be",
   "metadata": {
    "execution": {
     "iopub.execute_input": "2023-12-30T04:27:27.492959Z",
     "iopub.status.busy": "2023-12-30T04:27:27.492614Z",
     "iopub.status.idle": "2023-12-30T04:27:27.501747Z",
     "shell.execute_reply": "2023-12-30T04:27:27.500951Z"
    },
    "papermill": {
     "duration": 0.015738,
     "end_time": "2023-12-30T04:27:27.503352",
     "exception": false,
     "start_time": "2023-12-30T04:27:27.487614",
     "status": "completed"
    },
    "tags": []
   },
   "outputs": [
    {
     "data": {
      "text/html": [
       "<div>\n",
       "<style scoped>\n",
       "    .dataframe tbody tr th:only-of-type {\n",
       "        vertical-align: middle;\n",
       "    }\n",
       "\n",
       "    .dataframe tbody tr th {\n",
       "        vertical-align: top;\n",
       "    }\n",
       "\n",
       "    .dataframe thead th {\n",
       "        text-align: right;\n",
       "    }\n",
       "</style>\n",
       "<table border=\"1\" class=\"dataframe\">\n",
       "  <thead>\n",
       "    <tr style=\"text-align: right;\">\n",
       "      <th></th>\n",
       "      <th>Document</th>\n",
       "    </tr>\n",
       "  </thead>\n",
       "  <tbody>\n",
       "    <tr>\n",
       "      <th>0</th>\n",
       "      <td>I was raised as a Muslim, but never got into t...</td>\n",
       "    </tr>\n",
       "    <tr>\n",
       "      <th>1</th>\n",
       "      <td>\\nAs salamu alaikum, I wonder what the benefit...</td>\n",
       "    </tr>\n",
       "    <tr>\n",
       "      <th>2</th>\n",
       "      <td>I was at a coffee shop when I saw a carbonara ...</td>\n",
       "    </tr>\n",
       "    <tr>\n",
       "      <th>3</th>\n",
       "      <td>Hello, so I am a 13 year old boy, naturally I ...</td>\n",
       "    </tr>\n",
       "    <tr>\n",
       "      <th>4</th>\n",
       "      <td>We intend to get married soon but my father an...</td>\n",
       "    </tr>\n",
       "    <tr>\n",
       "      <th>...</th>\n",
       "      <td>...</td>\n",
       "    </tr>\n",
       "    <tr>\n",
       "      <th>34995</th>\n",
       "      <td>You never hear of the Lord Shiva, for example,...</td>\n",
       "    </tr>\n",
       "    <tr>\n",
       "      <th>34996</th>\n",
       "      <td>**Question 1 : What is the difference between ...</td>\n",
       "    </tr>\n",
       "    <tr>\n",
       "      <th>34997</th>\n",
       "      <td>The symbol right now is associated with hate, ...</td>\n",
       "    </tr>\n",
       "    <tr>\n",
       "      <th>34998</th>\n",
       "      <td>\\n\\nNamaste dear all  \\n \\n\\nI am really rea...</td>\n",
       "    </tr>\n",
       "    <tr>\n",
       "      <th>34999</th>\n",
       "      <td>My partner and I got the keys to our new apart...</td>\n",
       "    </tr>\n",
       "  </tbody>\n",
       "</table>\n",
       "<p>35000 rows × 1 columns</p>\n",
       "</div>"
      ],
      "text/plain": [
       "                                                Document\n",
       "0      I was raised as a Muslim, but never got into t...\n",
       "1      \\nAs salamu alaikum, I wonder what the benefit...\n",
       "2      I was at a coffee shop when I saw a carbonara ...\n",
       "3      Hello, so I am a 13 year old boy, naturally I ...\n",
       "4      We intend to get married soon but my father an...\n",
       "...                                                  ...\n",
       "34995  You never hear of the Lord Shiva, for example,...\n",
       "34996  **Question 1 : What is the difference between ...\n",
       "34997  The symbol right now is associated with hate, ...\n",
       "34998    \\n\\nNamaste dear all  \\n \\n\\nI am really rea...\n",
       "34999  My partner and I got the keys to our new apart...\n",
       "\n",
       "[35000 rows x 1 columns]"
      ]
     },
     "execution_count": 9,
     "metadata": {},
     "output_type": "execute_result"
    }
   ],
   "source": [
    "df"
   ]
  },
  {
   "cell_type": "code",
   "execution_count": 10,
   "id": "a2a78c42",
   "metadata": {
    "execution": {
     "iopub.execute_input": "2023-12-30T04:27:27.512397Z",
     "iopub.status.busy": "2023-12-30T04:27:27.512151Z",
     "iopub.status.idle": "2023-12-30T04:27:27.517726Z",
     "shell.execute_reply": "2023-12-30T04:27:27.517188Z"
    },
    "papermill": {
     "duration": 0.011803,
     "end_time": "2023-12-30T04:27:27.519205",
     "exception": false,
     "start_time": "2023-12-30T04:27:27.507402",
     "status": "completed"
    },
    "tags": []
   },
   "outputs": [],
   "source": [
    "def printGraph(triples):\n",
    "    G = nx.Graph()\n",
    "    for triple in triples:\n",
    "        G.add_node(triple[0])\n",
    "        G.add_node(triple[1])\n",
    "        G.add_node(triple[2])\n",
    "        G.add_edge(triple[0], triple[1])\n",
    "        G.add_edge(triple[1], triple[2])\n",
    "\n",
    "    pos = nx.spring_layout(G,k=2, iterations=50)\n",
    "    plt.figure(figsize=(8, 8))\n",
    "    nx.draw(G, pos, edge_color='black', width=1, linewidths=1,\n",
    "            node_size=5000, node_color='lightblue', alpha=0.9,font_size=10,\n",
    "            labels={node: node for node in G.nodes()})\n",
    "    plt.axis('off')\n",
    "    plt.show()"
   ]
  },
  {
   "cell_type": "code",
   "execution_count": 11,
   "id": "8e881996",
   "metadata": {
    "execution": {
     "iopub.execute_input": "2023-12-30T04:27:27.528065Z",
     "iopub.status.busy": "2023-12-30T04:27:27.527797Z",
     "iopub.status.idle": "2023-12-30T04:27:47.746769Z",
     "shell.execute_reply": "2023-12-30T04:27:47.745790Z"
    },
    "papermill": {
     "duration": 20.225931,
     "end_time": "2023-12-30T04:27:47.749063",
     "exception": false,
     "start_time": "2023-12-30T04:27:27.523132",
     "status": "completed"
    },
    "tags": []
   },
   "outputs": [],
   "source": [
    "def clean_text(x):\n",
    "    text = re.sub('(\\d+)','',x)   \n",
    "    text = text.lower()\n",
    "    return text\n",
    "def remove_url(x):\n",
    "    text = re.sub('(https?:\\/\\/)?([\\da-z\\.-]+)\\.([a-z\\.]{2,6})\\/([a-zA-Z0-9_]+]*)',' ',x)\n",
    "    return text\n",
    "def remove_punct(x):\n",
    "    text_without_puct = [t for t in x if t not in string.punctuation]\n",
    "    text_without_puct = ''.join(text_without_puct)\n",
    "    return text_without_puct\n",
    "stop_words = nltk.corpus.stopwords.words('english')\n",
    "from nltk.corpus import stopwords\n",
    "stop = stopwords.words('english')\n",
    "\n",
    "df['Document'] = df['Document'].apply(clean_text)\n",
    "df['Document'] = df['Document'].apply(remove_url)\n",
    "df['Document'] = df['Document'].apply(remove_punct)\n",
    "df['Document'] = df['Document'].apply(lambda x: ' '.join([word for word in x.split() if word not in (stop)]))"
   ]
  },
  {
   "cell_type": "code",
   "execution_count": 12,
   "id": "ded56f6c",
   "metadata": {
    "execution": {
     "iopub.execute_input": "2023-12-30T04:27:47.759102Z",
     "iopub.status.busy": "2023-12-30T04:27:47.758789Z",
     "iopub.status.idle": "2023-12-30T04:27:47.766279Z",
     "shell.execute_reply": "2023-12-30T04:27:47.765384Z"
    },
    "papermill": {
     "duration": 0.014432,
     "end_time": "2023-12-30T04:27:47.768003",
     "exception": false,
     "start_time": "2023-12-30T04:27:47.753571",
     "status": "completed"
    },
    "tags": []
   },
   "outputs": [
    {
     "data": {
      "text/plain": [
       "['raised muslim never got habit praying five times day strong believer try follow much lifestyle recommended like lying gossiping helping anyone possible basically trying good human general also try understand islam deeply reading looking resources discussing friends etc trying become better muslim better person moved new country extremely stressed time due engineering degree signs adhd childhood moving stress manifested stronger symptoms trouble day day life seeing counsellor figure actually adhd possible diagnosis also trying say prayers looking towards allah guidance salah cant focus mind recite quran everything needs done salah quiet time brain goes autopilot mode time things without even thinking led forgetting lot rakah different ideas sometimes even daydreaming something else salah worst missing imams instruction jamaat even idea post came mind salah led lose interest saying prayers multiple times tried get habit saying prayers daily multiple times days cant seem follow get frustrated failforget lose interest pray best ramadan prayed everyday days anyone give advice mindful salah build habit really dont know trying enough want better mindful stuff really hard feeling helpless days go',\n",
       " 'salamu alaikum wonder benefits umrah hajj people takes long time save required money wouldnt first save hajj umrah later afford know many countries hajj easily accessible wait relatively long queue one thing would understand get know procedure everything umrah better prepared hajj thanks contributions thats pillar know least hence question',\n",
       " 'coffee shop saw carbonara pasta asked pork cashier said none served doubtful pink stuff assumed ham still felt pork wanted eat food kind expensive ate anyway avoiding ham ate halfway decided stop ask said pork stopped eating food haraam wasn’t purely accidental feel like knew pork ate anyway stopped though thoughts feel absolutely sick eating',\n",
       " 'hello year old boy naturally sexual desires lets honest almost everyone masturbated anyways stopped months ago started hurt alot could barley walk couldnt control pain much relief searched called blue balls longest lasted also month could handle pain halal stop pain need advice always ask forgiveness sin allah swt needed releif pain see doctor saudi arabia would probably find halal way continue',\n",
       " 'intend get married soon father live great distance away due covid restrictions fiancé unable fly meet father father insists come person must father refused make compromise never thought mandatory long fiancé receives blessing cant seem find info anywhere mandatory islamic law come person callvideocall acceptable current circumstances',\n",
       " 'asalam alaikum brothers sisters hope well im sorry isnt right place post message need help need serious help years old holy month approaches us realise good muslim anymore practise way going frank please forgive know one must talk sins openly know turn cannot tell family angry disappointed cannot tell friends wont understand drink partake sexual relations hookupsdating two vices know stop im deep sins cannot break hate person dont know stop living alone right get lonely barely friends close ones london always busy two sins remedy dont want anymore depressed im developing self confidence issues cannot focus education please someone tell something help better muslim know take steps one else start recite prayers ask allah forgive still merciful towards ashamed sins dont want define im sorry rambling nature post thank jazak allah',\n",
       " 'hi i’m afraid don’t know much islam muslim colleague job majority nonmuslim town there’s lots discrimination wondered anything could say let know support respect religion would strange nonmuslim said mashallah inshallah words speaking apologise strange question don’t mean disrespectful think islam beautiful religion thanks advance',\n",
       " 'grew christian household dont hold christian beliefs anymore debate tonight devout father claimed islamic extremism kind associated al qaeda terrorist groups tolerated much widespread islamic community christian extremism tolerated normal christians believe white americans underexposed islam perhaps dont see many examples muslims denouncing extremists hoping subreddit could share thoughts edit johndurandal raised good point perhaps wbc best example use comparison muslim christian extremist groups examples militant christian terrorist groups would better army god armyofgodusa hutaree',\n",
       " 'hi someone still learning islam formerly jehovah’s witness main belief held earth would last forever paradise long journey discovering islam believe truth still questions imam different sects islam it’s book what’s interpretation psalms ecclesiastes sūratul anbiyā āyat animals souls goto heaven hell assalaamalaikum thank',\n",
       " 'know food isnt intrinsically linked ones faith treated regional cultural phenomenon yadayada lets split hairs dehumanization muslims time high even place grew shit like virginiamosquemeetinggetsuglyeveryoneofyouareterrorists happens barriers erected ignorance reaches point people dont know anything fear hate howdy im satanist xgenrgexaggiphygif everyone loves often people know turn noses anything outside cultural norms eat isnt dictated religion yet theyll still swear anything doesnt conform greasy mayonnaise drenched allamerican slop theyve coating fat diabetic taste buds decades despicable barriers ill eat hence want learn cuisine hopefully start cooking selfishly thats know lots nonmuslim eyeballs pass time time see winwin everyone food amazing ability bring people together medium exchange knowledge nothing people nowadays arent interested words coming mouths maybe people would receptive meals put tldr im looking rislam specific recipes']"
      ]
     },
     "execution_count": 12,
     "metadata": {},
     "output_type": "execute_result"
    }
   ],
   "source": [
    "text = df['Document'].tolist()\n",
    "read_1 = text[:10]\n",
    "read_1"
   ]
  },
  {
   "cell_type": "code",
   "execution_count": 13,
   "id": "4e0d777a",
   "metadata": {
    "execution": {
     "iopub.execute_input": "2023-12-30T04:27:47.777973Z",
     "iopub.status.busy": "2023-12-30T04:27:47.777686Z",
     "iopub.status.idle": "2023-12-30T04:27:49.944958Z",
     "shell.execute_reply": "2023-12-30T04:27:49.943979Z"
    },
    "papermill": {
     "duration": 2.174658,
     "end_time": "2023-12-30T04:27:49.946934",
     "exception": false,
     "start_time": "2023-12-30T04:27:47.772276",
     "status": "completed"
    },
    "tags": []
   },
   "outputs": [
    {
     "name": "stdout",
     "output_type": "stream",
     "text": [
      "raised -> advcl\n",
      "muslim -> dobj\n",
      "never -> neg\n",
      "got -> ccomp\n",
      "habit -> dobj\n",
      "praying -> acl\n",
      "five -> nummod\n",
      "times -> compound\n",
      "day -> npadvmod\n",
      "strong -> amod\n",
      "believer -> nsubj\n",
      "try -> aux\n",
      "follow -> ccomp\n",
      "much -> amod\n",
      "lifestyle -> dobj\n",
      "recommended -> acl\n",
      "like -> prep\n",
      "lying -> pcomp\n",
      "gossiping -> xcomp\n",
      "helping -> advcl\n",
      "anyone -> nsubj\n",
      "possible -> amod\n",
      "basically -> advmod\n",
      "trying -> ccomp\n",
      "good -> amod\n",
      "human -> amod\n",
      "general -> dobj\n",
      "also -> advmod\n",
      "try -> conj\n",
      "understand -> xcomp\n",
      "islam -> nsubj\n",
      "deeply -> advmod\n",
      "reading -> ccomp\n",
      "looking -> amod\n",
      "resources -> dobj\n",
      "discussing -> acl\n",
      "friends -> dobj\n",
      "etc -> cc\n",
      "trying -> xcomp\n",
      "become -> xcomp\n",
      "better -> advmod\n",
      "muslim -> amod\n",
      "better -> amod\n",
      "person -> nsubj\n",
      "moved -> conj\n",
      "new -> amod\n",
      "country -> dobj\n",
      "extremely -> advmod\n",
      "stressed -> conj\n",
      "time -> npadvmod\n",
      "due -> amod\n",
      "engineering -> compound\n",
      "degree -> compound\n",
      "signs -> compound\n",
      "adhd -> compound\n",
      "childhood -> nmod\n",
      "moving -> amod\n",
      "stress -> nsubj\n",
      "manifested -> ccomp\n",
      "stronger -> amod\n",
      "symptoms -> dobj\n",
      "trouble -> dobj\n",
      "day -> compound\n",
      "day -> compound\n",
      "life -> npadvmod\n",
      "seeing -> acl\n",
      "counsellor -> compound\n",
      "figure -> nsubj\n",
      "actually -> advmod\n",
      "adhd -> ccomp\n",
      "possible -> amod\n",
      "diagnosis -> dobj\n",
      "also -> advmod\n",
      "trying -> acl\n",
      "say -> xcomp\n",
      "prayers -> nsubj\n",
      "looking -> csubj\n",
      "towards -> prep\n",
      "allah -> compound\n",
      "guidance -> compound\n",
      "salah -> pobj\n",
      "ca -> aux\n",
      "nt -> neg\n",
      "focus -> ccomp\n",
      "mind -> compound\n",
      "recite -> compound\n",
      "quran -> dobj\n",
      "everything -> nsubj\n",
      "needs -> aux\n",
      "done -> advcl\n",
      "salah -> nmod\n",
      "quiet -> amod\n",
      "time -> compound\n",
      "brain -> nsubj\n",
      "goes -> ccomp\n",
      "autopilot -> compound\n",
      "mode -> compound\n",
      "time -> compound\n",
      "things -> dobj\n",
      "without -> prep\n",
      "even -> advmod\n",
      "thinking -> pcomp\n",
      "led -> amod\n",
      "forgetting -> compound\n",
      "lot -> compound\n",
      "rakah -> amod\n",
      "different -> amod\n",
      "ideas -> dobj\n",
      "sometimes -> advmod\n",
      "even -> advmod\n",
      "daydreaming -> advcl\n",
      "something -> dobj\n",
      "else -> advmod\n",
      "salah -> amod\n",
      "worst -> advmod\n",
      "missing -> amod\n",
      "imams -> compound\n",
      "instruction -> compound\n",
      "jamaat -> conj\n",
      "even -> advmod\n",
      "idea -> compound\n",
      "post -> nsubj\n",
      "came -> ROOT\n",
      "mind -> compound\n",
      "salah -> nsubj\n",
      "led -> advcl\n",
      "lose -> amod\n",
      "interest -> dobj\n",
      "saying -> acl\n",
      "prayers -> nsubj\n",
      "multiple -> amod\n",
      "times -> npadvmod\n",
      "tried -> ccomp\n",
      "get -> xcomp\n",
      "habit -> dobj\n",
      "saying -> advcl\n",
      "prayers -> nsubj\n",
      "daily -> amod\n",
      "multiple -> amod\n",
      "times -> compound\n",
      "days -> appos\n",
      "ca -> aux\n",
      "nt -> neg\n",
      "seem -> ccomp\n",
      "follow -> oprd\n",
      "get -> aux\n",
      "frustrated -> amod\n",
      "failforget -> nsubj\n",
      "lose -> xcomp\n",
      "interest -> dobj\n",
      "pray -> ccomp\n",
      "best -> amod\n",
      "ramadan -> nsubj\n",
      "prayed -> ccomp\n",
      "everyday -> amod\n",
      "days -> npadvmod\n",
      "anyone -> nsubj\n",
      "give -> conj\n",
      "advice -> nmod\n",
      "mindful -> amod\n",
      "salah -> compound\n",
      "build -> compound\n",
      "habit -> dobj\n",
      "really -> advmod\n",
      "do -> aux\n",
      "nt -> neg\n",
      "know -> conj\n",
      "trying -> xcomp\n",
      "enough -> advmod\n",
      "want -> xcomp\n",
      "better -> advmod\n",
      "mindful -> amod\n",
      "stuff -> dobj\n",
      "really -> advmod\n",
      "hard -> advmod\n",
      "feeling -> acl\n",
      "helpless -> amod\n",
      "days -> nsubj\n",
      "go -> dep\n",
      "believer anyone islam person stress figure prayers looking everything brain post salah prayers prayers failforget ramadan anyone days , strong much possible good human look muslim well new due move strong possible quiet lead rakah different salah miss come lose multiple daily multiple frustrated good everyday mindful mindful helpless , muslim habit lifestyle general resources friends country symptoms trouble diagnosis salah quran things ideas something interest habit interest habit stuff\n"
     ]
    },
    {
     "data": {
      "image/png": "[encoded data removed]",
      "text/plain": [
       "<Figure size 800x800 with 1 Axes>"
      ]
     },
     "metadata": {},
     "output_type": "display_data"
    },
    {
     "name": "stdout",
     "output_type": "stream",
     "text": [
      "salamu -> amod\n",
      "alaikum -> compound\n",
      "wonder -> compound\n",
      "benefits -> nsubj\n",
      "umrah -> compound\n",
      "hajj -> compound\n",
      "people -> nsubj\n",
      "takes -> relcl\n",
      "long -> amod\n",
      "time -> dobj\n",
      "save -> advmod\n",
      "required -> amod\n",
      "money -> dobj\n",
      "would -> aux\n",
      "nt -> neg\n",
      "first -> advmod\n",
      "save -> ROOT\n",
      "hajj -> dobj\n",
      "umrah -> nsubj\n",
      "later -> advmod\n",
      "afford -> aux\n",
      "know -> xcomp\n",
      "many -> amod\n",
      "countries -> dobj\n",
      "hajj -> nsubj\n",
      "easily -> advmod\n",
      "accessible -> relcl\n",
      "wait -> ccomp\n",
      "relatively -> advmod\n",
      "long -> advmod\n",
      "queue -> acomp\n",
      "one -> nummod\n",
      "thing -> nsubj\n",
      "would -> aux\n",
      "understand -> ccomp\n",
      "get -> xcomp\n",
      "know -> amod\n",
      "procedure -> compound\n",
      "everything -> dobj\n",
      "umrah -> xcomp\n",
      "better -> advmod\n",
      "prepared -> amod\n",
      "hajj -> compound\n",
      "thanks -> compound\n",
      "contributions -> dobj\n",
      "that -> nsubj\n",
      "s -> relcl\n",
      "pillar -> attr\n",
      "know -> advmod\n",
      "least -> advmod\n",
      "hence -> advmod\n",
      "question -> conj\n",
      "benefits people umrah hajj thing that , salamu long require save many know prepare pillar , time money hajj countries everything contributions\n"
     ]
    },
    {
     "data": {
      "image/png": "[encoded data removed]",
      "text/plain": [
       "<Figure size 800x800 with 1 Axes>"
      ]
     },
     "metadata": {},
     "output_type": "display_data"
    }
   ],
   "source": [
    "if __name__ == \"__main__\":\n",
    "    text = 'raised muslim never got habit praying five times day strong believer try follow much lifestyle recommended like lying gossiping helping anyone possible basically trying good human general also try understand islam deeply reading looking resources discussing friends etc trying become better muslim better person moved new country extremely stressed time due engineering degree signs adhd childhood moving stress manifested stronger symptoms trouble day day life seeing counsellor figure actually adhd possible diagnosis also trying say prayers looking towards allah guidance salah cant focus mind recite quran everything needs done salah quiet time brain goes autopilot mode time things without even thinking led forgetting lot rakah different ideas sometimes even daydreaming something else salah worst missing imams instruction jamaat even idea post came mind salah led lose interest saying prayers multiple times tried get habit saying prayers daily multiple times days cant seem follow get frustrated failforget lose interest pray best ramadan prayed everyday days anyone give advice mindful salah build habit really dont know trying enough want better mindful stuff really hard feeling helpless days go'\n",
    "    text1 = 'salamu alaikum wonder benefits umrah hajj people takes long time save required money wouldnt first save hajj umrah later afford know many countries hajj easily accessible wait relatively long queue one thing would understand get know procedure everything umrah better prepared hajj thanks contributions thats pillar know least hence question'\n",
    "    sentences = getSentences(text)\n",
    "    \n",
    "    nlp_model = spacy.load('en_core_web_sm')\n",
    "\n",
    "    triples = []\n",
    "    for sentence in sentences:\n",
    "        triples.append(processSentence(sentence))\n",
    "        \n",
    "    printGraph(triples)\n",
    "    nlp_model = spacy.load('en_core_web_sm')\n",
    "    sentences = getSentences(text1)\n",
    "\n",
    "    triples = []\n",
    "    for sentence in sentences:\n",
    "        triples.append(processSentence(sentence))    \n",
    "    printGraph(triples)    \n",
    "        "
   ]
  },
  {
   "cell_type": "code",
   "execution_count": null,
   "id": "c41e1c64",
   "metadata": {
    "papermill": {
     "duration": 0.005321,
     "end_time": "2023-12-30T04:27:49.958038",
     "exception": false,
     "start_time": "2023-12-30T04:27:49.952717",
     "status": "completed"
    },
    "tags": []
   },
   "outputs": [],
   "source": []
  }
 ],
 "metadata": {
  "kaggle": {
   "accelerator": "none",
   "dataSources": [
    {
     "datasetId": 4166082,
     "sourceId": 7202008,
     "sourceType": "datasetVersion"
    }
   ],
   "dockerImageVersionId": 30626,
   "isGpuEnabled": false,
   "isInternetEnabled": true,
   "language": "python",
   "sourceType": "notebook"
  },
  "kernelspec": {
   "display_name": "Python 3",
   "language": "python",
   "name": "python3"
  },
  "language_info": {
   "codemirror_mode": {
    "name": "ipython",
    "version": 3
   },
   "file_extension": ".py",
   "mimetype": "text/x-python",
   "name": "python",
   "nbconvert_exporter": "python",
   "pygments_lexer": "ipython3",
   "version": "3.10.12"
  },
  "papermill": {
   "default_parameters": {},
   "duration": 33.727059,
   "end_time": "2023-12-30T04:27:50.984996",
   "environment_variables": {},
   "exception": null,
   "input_path": "__notebook__.ipynb",
   "output_path": "__notebook__.ipynb",
   "parameters": {},
   "start_time": "2023-12-30T04:27:17.257937",
   "version": "2.4.0"
  }
 },
 "nbformat": 4,
 "nbformat_minor": 5
}
